{
 "cells": [
  {
   "cell_type": "code",
   "execution_count": 1,
   "metadata": {},
   "outputs": [],
   "source": [
    "from bs4 import BeautifulSoup\n",
    "import requests\n",
    "import random\n",
    "import re"
   ]
  },
  {
   "cell_type": "code",
   "execution_count": 2,
   "metadata": {},
   "outputs": [],
   "source": [
    "def getQuote(keyword):\n",
    "\n",
    "    list_quotes = []\n",
    "    url = requests.get('https://www.brainyquote.com/search_results?q='+keyword).text\n",
    "    soup = BeautifulSoup(url, 'lxml')\n",
    "    for quote in soup.find_all('div', class_='clearfix'):\n",
    "        quote_text = quote.a.text\n",
    "        # only select quote shorter than 150 characters\n",
    "        if len(quote_text) < 400:\n",
    "            list_quotes.append(quote_text)\n",
    "        else: pass\n",
    "        random_quote = random.choice(list_quotes)\n",
    "        # remove the brackets\n",
    "        # random_quote = re.sub(r'^[\\'\\\"]|[\\'\\\"]$', '', random_quote)\n",
    "            \n",
    "    return random_quote"
   ]
  },
  {
   "cell_type": "code",
   "execution_count": 3,
   "metadata": {},
   "outputs": [
    {
     "name": "stdout",
     "output_type": "stream",
     "text": [
      "I try not to set myself up as different or as a celebrity or special. I have a husband that can get on my nerves. I have kids that test my patience. I've got a cat I can't keep off the sofa. It's real. On a bad day, I'm reading 'Acts of Faith.'\n"
     ]
    }
   ],
   "source": [
    "print (getQuote('cat'))"
   ]
  },
  {
   "cell_type": "code",
   "execution_count": null,
   "metadata": {},
   "outputs": [],
   "source": []
  }
 ],
 "metadata": {
  "kernelspec": {
   "display_name": "Python 3",
   "language": "python",
   "name": "python3"
  },
  "language_info": {
   "codemirror_mode": {
    "name": "ipython",
    "version": 3
   },
   "file_extension": ".py",
   "mimetype": "text/x-python",
   "name": "python",
   "nbconvert_exporter": "python",
   "pygments_lexer": "ipython3",
   "version": "3.6.8"
  }
 },
 "nbformat": 4,
 "nbformat_minor": 2
}
